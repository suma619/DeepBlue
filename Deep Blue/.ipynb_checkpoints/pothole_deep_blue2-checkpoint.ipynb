{
 "cells": [
  {
   "cell_type": "code",
   "execution_count": 24,
   "metadata": {},
   "outputs": [
    {
     "data": {
      "image/png": "[encoded data removed]",
      "text/plain": [
       "<Figure size 432x288 with 1 Axes>"
      ]
     },
     "metadata": {
      "needs_background": "light"
     },
     "output_type": "display_data"
    }
   ],
   "source": [
    "import numpy as np\n",
    "import cv2\n",
    "import imutils\n",
    "import matplotlib.pyplot as plt\n",
    "# Load an color image \n",
    "img = cv2.imread('pot01.jfif')\n",
    "\n",
    "#edges = cv2.Canny(img,100,200)\n",
    "#cv2.imshow('output',edges)\n",
    "# fgbg = cv2.createBackgroundSubtractorMOG()\n",
    "# fgmask = fgbg.apply(img)\n",
    "\n",
    "mask=np.zeros(img.shape[:2],np.uint8)\n",
    "\n",
    "bgdModel=np.zeros((1,65),np.float64)\n",
    "fgdModel=np.zeros((1,65),np.float64)\n",
    "\n",
    "rect=(15,15,240,175)\n",
    "\n",
    "cv2.grabCut(img,mask,rect,bgdModel,fgdModel,5,cv2.GC_INIT_WITH_RECT)\n",
    "mask2=np.where((mask==2)|(mask==0),0,1).astype('uint8')\n",
    "img2=img*mask2[:,:,np.newaxis]\n",
    "# img22=img2\n",
    "# edges = cv2.Canny(img2,100,200)\n",
    "plt.imshow(img2)\n",
    "\n",
    "\n",
    "plt.show()\n",
    "cv2.imshow('input',img)\n",
    "# img3 = cv2.circle(img2, (125, 80), 100, (0,255,0), 5)\n",
    "\n",
    "# cv2.imshow('output',img2)\n",
    "# cv2.imshow('edges',edges)\n",
    "# cv2.imshow('orignal grabcut',img22)\n",
    "\n",
    "\n",
    "\n",
    "cv2.waitKey(0)\n",
    "cv2.destroyAllWindows()"
   ]
  },
  {
   "cell_type": "code",
   "execution_count": 9,
   "metadata": {},
   "outputs": [],
   "source": [
    "img = cv2.imread('pot02.jpg',1)\n",
    "# edges = cv2.Canny(img,100,200)\n",
    "\n",
    "image3=img\n",
    "gray = cv2.cvtColor(image3, cv2.COLOR_BGR2GRAY)\n",
    "gray = cv2.GaussianBlur(gray, (5, 5), 0)\n",
    " \n",
    "# threshold the image, then perform a series of erosions +\n",
    "# dilations to remove any small regions of noise\n",
    "thresh = cv2.threshold(gray, 45, 255, cv2.THRESH_BINARY)[1]\n",
    "thresh = cv2.erode(thresh, None, iterations=2)\n",
    "thresh = cv2.dilate(thresh, None, iterations=2)\n",
    " \n",
    "# find contours in thresholded image, then grab the largest\n",
    "# one\n",
    "cnts = cv2.findContours(thresh.copy(), cv2.RETR_EXTERNAL,cv2.CHAIN_APPROX_SIMPLE)\n",
    "cnts = cnts[0] if imutils.is_cv2() else cnts[1]\n",
    "c = max(cnts, key=cv2.contourArea)"
   ]
  },
  {
   "cell_type": "code",
   "execution_count": 10,
   "metadata": {},
   "outputs": [],
   "source": [
    "extLeft = tuple(c[c[:, :, 0].argmin()][0])\n",
    "extRight = tuple(c[c[:, :, 0].argmax()][0])\n",
    "extTop = tuple(c[c[:, :, 1].argmin()][0])\n",
    "extBot = tuple(c[c[:, :, 1].argmax()][0])\n"
   ]
  },
  {
   "cell_type": "code",
   "execution_count": 11,
   "metadata": {},
   "outputs": [
    {
     "data": {
      "text/plain": [
       "-1"
      ]
     },
     "execution_count": 11,
     "metadata": {},
     "output_type": "execute_result"
    }
   ],
   "source": [
    "# draw the outline of the object, then draw each of the\n",
    "# extreme points, where the left-most is red, right-most\n",
    "# is green, top-most is blue, and bottom-most is teal\n",
    "cv2.drawContours(image3, [c], -1, (0, 255, 255), 2)\n",
    "cv2.circle(image3, extLeft, 8, (0, 0, 255), -1)\n",
    "cv2.circle(image3, extRight, 8, (0, 255, 0), -1)\n",
    "cv2.circle(image3, extTop, 8, (255, 0, 0), -1)\n",
    "cv2.circle(image3, extBot, 8, (255, 255, 0), -1)\n",
    " \n",
    "# show the output image\n",
    "cv2.imshow(\"Image\", image3)\n",
    "cv2.waitKey(0)"
   ]
  },
  {
   "cell_type": "code",
   "execution_count": null,
   "metadata": {},
   "outputs": [],
   "source": []
  },
  {
   "cell_type": "code",
   "execution_count": null,
   "metadata": {},
   "outputs": [],
   "source": []
  }
 ],
 "metadata": {
  "kernelspec": {
   "display_name": "Python 3",
   "language": "python",
   "name": "python3"
  },
  "language_info": {
   "codemirror_mode": {
    "name": "ipython",
    "version": 3
   },
   "file_extension": ".py",
   "mimetype": "text/x-python",
   "name": "python",
   "nbconvert_exporter": "python",
   "pygments_lexer": "ipython3",
   "version": "3.5.2"
  }
 },
 "nbformat": 4,
 "nbformat_minor": 2
}
