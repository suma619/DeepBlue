{
 "cells": [
  {
   "cell_type": "code",
   "execution_count": null,
   "metadata": {},
   "outputs": [],
   "source": [
    "import numpy as np\n",
    "import cv2\n",
    "import matplotlib.pyplot as plt\n",
    "# Load an color image \n",
    "img = cv2.imread('p77.jfif',1)\n",
    "\n",
    "#edges = cv2.Canny(img,100,200)\n",
    "#cv2.imshow('output',edges)\n",
    "# fgbg = cv2.createBackgroundSubtractorMOG()\n",
    "# fgmask = fgbg.apply(img)\n",
    "\n",
    "mask=np.zeros(img.shape[:2],np.uint8)\n",
    "\n",
    "bgdModel=np.zeros((1,65),np.float64)\n",
    "fgdModel=np.zeros((1,65),np.float64)\n",
    "\n",
    "rect=(50,25,200,150)\n",
    "\n",
    "cv2.grabCut(img,mask,rect,bgdModel,fgdModel,5,cv2.GC_INIT_WITH_RECT)\n",
    "mask2=np.where((mask==2)|(mask==0),0,1).astype('uint8')\n",
    "img2=img*mask2[:,:,np.newaxis]\n",
    "\n",
    "plt.imshow(img2)\n",
    "\n",
    "\n",
    "plt.show()\n",
    "cv2.imshow('input',img)\n",
    "img2 = cv2.circle(img2, (125, 80), 100, (0,255,0), 5)\n",
    "cv2.imshow('output',img2)\n",
    "\n",
    "cv2.waitKey(0)\n",
    "cv2.destroyAllWindows()"
   ]
  },
  {
   "cell_type": "code",
   "execution_count": 9,
   "metadata": {},
   "outputs": [],
   "source": [
    "\n"
   ]
  },
  {
   "cell_type": "code",
   "execution_count": null,
   "metadata": {},
   "outputs": [],
   "source": []
  },
  {
   "cell_type": "code",
   "execution_count": null,
   "metadata": {},
   "outputs": [],
   "source": []
  }
 ],
 "metadata": {
  "kernelspec": {
   "display_name": "Python 3",
   "language": "python",
   "name": "python3"
  },
  "language_info": {
   "codemirror_mode": {
    "name": "ipython",
    "version": 3
   },
   "file_extension": ".py",
   "mimetype": "text/x-python",
   "name": "python",
   "nbconvert_exporter": "python",
   "pygments_lexer": "ipython3",
   "version": "3.5.2"
  }
 },
 "nbformat": 4,
 "nbformat_minor": 2
}
