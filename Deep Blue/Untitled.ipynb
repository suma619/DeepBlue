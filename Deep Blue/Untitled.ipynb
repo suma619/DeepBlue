{
 "cells": [
  {
   "cell_type": "code",
   "execution_count": 1,
   "metadata": {},
   "outputs": [],
   "source": [
    "import cv2\n",
    "import numpy as np\n",
    "\n",
    "## (1) Read\n",
    "img = cv2.imread(\"test.jfif\")\n",
    "gray = cv2.cvtColor(img, cv2.COLOR_BGR2GRAY)\n",
    "\n",
    "## (2) Threshold\n",
    "th, threshed = cv2.threshold(gray, 127, 255, cv2.THRESH_BINARY_INV|cv2.THRESH_OTSU)\n",
    "\n",
    "## (3) Find the min-area contour\n",
    "_, cnts, _ = cv2.findContours(threshed, cv2.RETR_TREE, cv2.CHAIN_APPROX_SIMPLE)\n",
    "cnts = sorted(cnts, key=cv2.contourArea)\n",
    "for cnt in cnts:\n",
    "    if cv2.contourArea(cnt) > 100:\n",
    "        break\n",
    "\n",
    "## (4) Create mask and do bitwise-op\n",
    "mask = np.zeros(img.shape[:2],np.uint8)\n",
    "cv2.drawContours(mask, [cnt],-1, 255, -1)\n",
    "dst = cv2.bitwise_and(img, img, mask=mask)\n",
    "\n",
    "## Save it\n",
    "cv2.imwrite(\"dst.png\", dst)\n",
    "cv2.imshow('output',dst)\n"
   ]
  },
  {
   "cell_type": "code",
   "execution_count": null,
   "metadata": {},
   "outputs": [],
   "source": []
  }
 ],
 "metadata": {
  "kernelspec": {
   "display_name": "Python 3",
   "language": "python",
   "name": "python3"
  },
  "language_info": {
   "codemirror_mode": {
    "name": "ipython",
    "version": 3
   },
   "file_extension": ".py",
   "mimetype": "text/x-python",
   "name": "python",
   "nbconvert_exporter": "python",
   "pygments_lexer": "ipython3",
   "version": "3.5.2"
  }
 },
 "nbformat": 4,
 "nbformat_minor": 2
}
